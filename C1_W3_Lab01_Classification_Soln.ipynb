{
  "cells": [
    {
      "cell_type": "markdown",
      "metadata": {
        "id": "view-in-github",
        "colab_type": "text"
      },
      "source": [
        "<a href=\"https://colab.research.google.com/github/yuvshan05/andrewng_supervised_machine_learning_full_course/blob/main/C1_W3_Lab01_Classification_Soln.ipynb\" target=\"_parent\"><img src=\"https://colab.research.google.com/assets/colab-badge.svg\" alt=\"Open In Colab\"/></a>"
      ]
    },
    {
      "cell_type": "markdown",
      "metadata": {
        "id": "0OgYwKMw5Cg7"
      },
      "source": [
        "# Optional Lab: Classification\n",
        "\n",
        "In this lab, you will contrast regression and classification."
      ],
      "id": "0OgYwKMw5Cg7"
    },
    {
      "cell_type": "code",
      "execution_count": null,
      "metadata": {
        "id": "wLXmJ5LG5Cg9"
      },
      "outputs": [],
      "source": [
        "import numpy as np\n",
        "%matplotlib widget\n",
        "import matplotlib.pyplot as plt\n",
        "from lab_utils_common import dlc, plot_data\n",
        "from plt_one_addpt_onclick import plt_one_addpt_onclick\n",
        "plt.style.use('./deeplearning.mplstyle')"
      ],
      "id": "wLXmJ5LG5Cg9"
    },
    {
      "cell_type": "markdown",
      "metadata": {
        "id": "JIXpJd9v5Cg_"
      },
      "source": [
        "## Classification Problems\n",
        "<img align=\"left\" src=\"./images/C1_W3_Classification.png\"     style=\" width:380px; padding: 10px; \" > Examples of classification problems are things like: identifying email as Spam or Not Spam or determining if a tumor is malignant or benign. In particular, these are examples of *binary* classification where there are two possible outcomes.  Outcomes can be  described in pairs of 'positive'/'negative' such as 'yes'/'no, 'true'/'false' or '1'/'0'.\n",
        "\n",
        "Plots of classification data sets often use symbols to indicate the outcome of an example. In the plots below, 'X' is used to represent the positive values while 'O' represents negative outcomes."
      ],
      "id": "JIXpJd9v5Cg_"
    },
    {
      "cell_type": "code",
      "execution_count": null,
      "metadata": {
        "id": "5CBE_hGB5ChA"
      },
      "outputs": [],
      "source": [
        "x_train = np.array([0., 1, 2, 3, 4, 5])\n",
        "y_train = np.array([0,  0, 0, 1, 1, 1])\n",
        "X_train2 = np.array([[0.5, 1.5], [1,1], [1.5, 0.5], [3, 0.5], [2, 2], [1, 2.5]])\n",
        "y_train2 = np.array([0, 0, 0, 1, 1, 1])"
      ],
      "id": "5CBE_hGB5ChA"
    },
    {
      "cell_type": "code",
      "execution_count": null,
      "metadata": {
        "id": "St_SdZy75ChA",
        "outputId": "61c0c970-1955-46dc-d155-3fa1fc843405",
        "colab": {
          "referenced_widgets": [
            "f6dc81834adb4ee29240dc62f40af638"
          ]
        }
      },
      "outputs": [
        {
          "data": {
            "application/vnd.jupyter.widget-view+json": {
              "model_id": "f6dc81834adb4ee29240dc62f40af638",
              "version_major": 2,
              "version_minor": 0
            },
            "text/plain": [
              "Canvas(toolbar=Toolbar(toolitems=[('Home', 'Reset original view', 'home', 'home'), ('Back', 'Back to previous …"
            ]
          },
          "metadata": {},
          "output_type": "display_data"
        }
      ],
      "source": [
        "pos = y_train == 1\n",
        "neg = y_train == 0\n",
        "\n",
        "fig,ax = plt.subplots(1,2,figsize=(8,3))\n",
        "#plot 1, single variable\n",
        "ax[0].scatter(x_train[pos], y_train[pos], marker='x', s=80, c = 'red', label=\"y=1\")\n",
        "ax[0].scatter(x_train[neg], y_train[neg], marker='o', s=100, label=\"y=0\", facecolors='none',\n",
        "              edgecolors=dlc[\"dlblue\"],lw=3)\n",
        "\n",
        "ax[0].set_ylim(-0.08,1.1)\n",
        "ax[0].set_ylabel('y', fontsize=12)\n",
        "ax[0].set_xlabel('x', fontsize=12)\n",
        "ax[0].set_title('one variable plot')\n",
        "ax[0].legend()\n",
        "\n",
        "#plot 2, two variables\n",
        "plot_data(X_train2, y_train2, ax[1])\n",
        "ax[1].axis([0, 4, 0, 4])\n",
        "ax[1].set_ylabel('$x_1$', fontsize=12)\n",
        "ax[1].set_xlabel('$x_0$', fontsize=12)\n",
        "ax[1].set_title('two variable plot')\n",
        "ax[1].legend()\n",
        "plt.tight_layout()\n",
        "plt.show()\n"
      ],
      "id": "St_SdZy75ChA"
    },
    {
      "cell_type": "markdown",
      "metadata": {
        "id": "q3fdOyy55ChB"
      },
      "source": [
        "Note in the plots above:\n",
        "- In the single variable plot, positive results are shown both a red 'X's and as y=1. Negative results are blue 'O's and are located at y=0.\n",
        "   - Recall in the case of linear regression, y would not have been limited to two values but could have been any value.\n",
        "- In the two-variable plot, the y axis is not available.  Positive results are shown as red 'X's, while negative results use the blue 'O' symbol.\n",
        "    - Recall in the case of linear regression with multiple variables, y would not have been limited to two values and a similar plot would have been three-dimensional."
      ],
      "id": "q3fdOyy55ChB"
    },
    {
      "cell_type": "markdown",
      "metadata": {
        "id": "q9Lpe4kf5ChC"
      },
      "source": [
        "## Linear Regression approach\n",
        "In the previous week, you applied linear regression to build a prediction model. Let's try that approach here using the simple example that was described in the lecture. The model will predict if a tumor is benign or malignant based on tumor size.  Try the following:\n",
        "- Click on 'Run Linear Regression' to find the best linear regression model for the given data.\n",
        "    - Note the resulting linear model does **not** match the data well.\n",
        "One option to improve the results is to apply a *threshold*.\n",
        "- Tick the box on the 'Toggle 0.5 threshold' to show the predictions if a threshold is applied.\n",
        "    - These predictions look good, the predictions match the data\n",
        "- *Important*: Now, add further 'malignant' data points on the far right, in the large tumor size range (near 10), and re-run linear regression.\n",
        "    - Now, the model predicts the larger tumor, but data point at x=3 is being incorrectly predicted!\n",
        "- to clear/renew the plot, rerun the cell containing the plot command."
      ],
      "id": "q9Lpe4kf5ChC"
    },
    {
      "cell_type": "code",
      "execution_count": null,
      "metadata": {
        "id": "N549j6er5ChC",
        "outputId": "18be9ae6-9871-4c78-bee8-645f3ad92e70",
        "colab": {
          "referenced_widgets": [
            "290c6198e3cb4673b92e4be828e0f103"
          ]
        }
      },
      "outputs": [
        {
          "data": {
            "application/vnd.jupyter.widget-view+json": {
              "model_id": "290c6198e3cb4673b92e4be828e0f103",
              "version_major": 2,
              "version_minor": 0
            },
            "text/plain": [
              "Canvas(toolbar=Toolbar(toolitems=[('Home', 'Reset original view', 'home', 'home'), ('Back', 'Back to previous …"
            ]
          },
          "metadata": {},
          "output_type": "display_data"
        }
      ],
      "source": [
        "w_in = np.zeros((1))\n",
        "b_in = 0\n",
        "plt.close('all')\n",
        "addpt = plt_one_addpt_onclick( x_train,y_train, w_in, b_in, logistic=False)"
      ],
      "id": "N549j6er5ChC"
    },
    {
      "cell_type": "markdown",
      "metadata": {
        "id": "viOk9p3r5ChD"
      },
      "source": [
        "The example above demonstrates that the linear model is insufficient to model categorical data. The model can be extended as described in the following lab."
      ],
      "id": "viOk9p3r5ChD"
    },
    {
      "cell_type": "markdown",
      "metadata": {
        "id": "FSqOnwM55ChD"
      },
      "source": [
        "## Congratulations!\n",
        "In this lab you:\n",
        "- explored categorical data sets and plotting\n",
        "- determined that linear regression was insufficient for a classification problem."
      ],
      "id": "FSqOnwM55ChD"
    },
    {
      "cell_type": "code",
      "execution_count": null,
      "metadata": {
        "id": "zIJPAxFP5ChD"
      },
      "outputs": [],
      "source": [],
      "id": "zIJPAxFP5ChD"
    },
    {
      "cell_type": "code",
      "execution_count": null,
      "metadata": {
        "id": "pIABU-mh5ChD"
      },
      "outputs": [],
      "source": [],
      "id": "pIABU-mh5ChD"
    },
    {
      "cell_type": "code",
      "execution_count": null,
      "metadata": {
        "id": "0VP483PL5ChE"
      },
      "outputs": [],
      "source": [],
      "id": "0VP483PL5ChE"
    },
    {
      "cell_type": "code",
      "execution_count": null,
      "metadata": {
        "id": "t_IshJaA5ChE"
      },
      "outputs": [],
      "source": [],
      "id": "t_IshJaA5ChE"
    },
    {
      "cell_type": "code",
      "execution_count": null,
      "metadata": {
        "id": "EwNBy19n5ChE"
      },
      "outputs": [],
      "source": [],
      "id": "EwNBy19n5ChE"
    },
    {
      "cell_type": "code",
      "execution_count": null,
      "metadata": {
        "id": "mFmkffyi5ChE"
      },
      "outputs": [],
      "source": [],
      "id": "mFmkffyi5ChE"
    },
    {
      "cell_type": "code",
      "execution_count": null,
      "metadata": {
        "id": "aDBcxcXa5ChE"
      },
      "outputs": [],
      "source": [],
      "id": "aDBcxcXa5ChE"
    },
    {
      "cell_type": "code",
      "execution_count": null,
      "metadata": {
        "id": "hAlWvq035ChE"
      },
      "outputs": [],
      "source": [],
      "id": "hAlWvq035ChE"
    },
    {
      "cell_type": "code",
      "execution_count": null,
      "metadata": {
        "id": "4j-yiYHf5ChE"
      },
      "outputs": [],
      "source": [],
      "id": "4j-yiYHf5ChE"
    }
  ],
  "metadata": {
    "kernelspec": {
      "display_name": "Python 3",
      "language": "python",
      "name": "python3"
    },
    "language_info": {
      "codemirror_mode": {
        "name": "ipython",
        "version": 3
      },
      "file_extension": ".py",
      "mimetype": "text/x-python",
      "name": "python",
      "nbconvert_exporter": "python",
      "pygments_lexer": "ipython3",
      "version": "3.7.6"
    },
    "colab": {
      "provenance": [],
      "include_colab_link": true
    }
  },
  "nbformat": 4,
  "nbformat_minor": 5
}