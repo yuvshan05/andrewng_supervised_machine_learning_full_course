{
  "cells": [
    {
      "cell_type": "markdown",
      "metadata": {
        "id": "view-in-github",
        "colab_type": "text"
      },
      "source": [
        "<a href=\"https://colab.research.google.com/github/yuvshan05/andrewng_supervised_machine_learning_full_course/blob/main/C1_W3_Lab08_Overfitting_Soln.ipynb\" target=\"_parent\"><img src=\"https://colab.research.google.com/assets/colab-badge.svg\" alt=\"Open In Colab\"/></a>"
      ]
    },
    {
      "cell_type": "markdown",
      "metadata": {
        "id": "tXuShdNiYKVH"
      },
      "source": [
        "# Ungraded Lab:  Overfitting\n",
        "\n",
        "<img align=\"left\" src=\"./images/C1_W3_Overfitting_a.png\"     style=\" width:250px; padding: 10px; \" >\n",
        "<img align=\"left\" src=\"./images/C1_W3_Overfitting_b.png\"     style=\" width:250px; padding: 10px; \" >\n",
        "<img align=\"left\" src=\"./images/C1_W3_Overfitting_c.png\"     style=\" width:250px; padding: 10px; \" >"
      ],
      "id": "tXuShdNiYKVH"
    },
    {
      "cell_type": "markdown",
      "metadata": {
        "id": "o5lsylqWYKVI"
      },
      "source": [
        "## Goals\n",
        "In this lab, you will explore:\n",
        "- the situations where overfitting can occur\n",
        "- some of the solutions"
      ],
      "id": "o5lsylqWYKVI"
    },
    {
      "cell_type": "code",
      "execution_count": null,
      "metadata": {
        "id": "UFymDW7jYKVJ"
      },
      "outputs": [],
      "source": [
        "%matplotlib widget\n",
        "import matplotlib.pyplot as plt\n",
        "from ipywidgets import Output\n",
        "from plt_overfit import overfit_example, output\n",
        "plt.style.use('./deeplearning.mplstyle')"
      ],
      "id": "UFymDW7jYKVJ"
    },
    {
      "cell_type": "markdown",
      "metadata": {
        "id": "5r8VkCWmYKVK"
      },
      "source": [
        "# Overfitting\n",
        "The week's lecture described situations where overfitting can arise. Run the cell below to generate a plot that will allow you to explore overfitting. There are further instructions below the cell."
      ],
      "id": "5r8VkCWmYKVK"
    },
    {
      "cell_type": "code",
      "execution_count": null,
      "metadata": {
        "id": "gXEt5CYGYKVK",
        "outputId": "18213422-5366-4187-bb14-e2a814718e2e",
        "colab": {
          "referenced_widgets": [
            "d5196e770c7a4a7697e915f413bcc996",
            "b47abb204c054d63918ef697aefe3015"
          ]
        }
      },
      "outputs": [
        {
          "data": {
            "application/vnd.jupyter.widget-view+json": {
              "model_id": "d5196e770c7a4a7697e915f413bcc996",
              "version_major": 2,
              "version_minor": 0
            },
            "text/plain": [
              "Output()"
            ]
          },
          "metadata": {},
          "output_type": "display_data"
        },
        {
          "data": {
            "application/vnd.jupyter.widget-view+json": {
              "model_id": "b47abb204c054d63918ef697aefe3015",
              "version_major": 2,
              "version_minor": 0
            },
            "text/plain": [
              "Canvas(toolbar=Toolbar(toolitems=[('Home', 'Reset original view', 'home', 'home'), ('Back', 'Back to previous …"
            ]
          },
          "metadata": {},
          "output_type": "display_data"
        }
      ],
      "source": [
        "plt.close(\"all\")\n",
        "display(output)\n",
        "ofit = overfit_example(False)"
      ],
      "id": "gXEt5CYGYKVK"
    },
    {
      "cell_type": "markdown",
      "metadata": {
        "id": "CEQaXL61YKVK"
      },
      "source": [
        "In the plot above you can:\n",
        "- switch between Regression and Categorization examples\n",
        "- add data\n",
        "- select the degree of the model\n",
        "- fit the model to the data  \n",
        "\n",
        "Here are some things you should try:\n",
        "- Fit the data with degree = 1; Note 'underfitting'.\n",
        "- Fit the data with degree = 6; Note 'overfitting'\n",
        "- tune degree to get the 'best fit'\n",
        "- add data:\n",
        "    - extreme examples can increase overfitting (assuming they are outliers).\n",
        "    - nominal examples can reduce overfitting\n",
        "- switch between `Regression` and `Categorical` to try both examples.\n",
        "\n",
        "To reset the plot, re-run the cell. Click slowly to allow the plot to update before receiving the next click.\n",
        "\n",
        "Notes on implementations:\n",
        "- the 'ideal' curves represent the generator model to which noise was added to achieve the data set\n",
        "- 'fit' does not use pure gradient descent to improve speed. These methods can be used on smaller data sets."
      ],
      "id": "CEQaXL61YKVK"
    },
    {
      "cell_type": "markdown",
      "metadata": {
        "id": "LG6XqZe8YKVL"
      },
      "source": [
        "## Congratulations!\n",
        "You have developed some intuition about the causes and solutions to overfitting. In the next lab, you will explore a commonly used solution, Regularization."
      ],
      "id": "LG6XqZe8YKVL"
    },
    {
      "cell_type": "code",
      "execution_count": null,
      "metadata": {
        "id": "VRnLSnD3YKVL"
      },
      "outputs": [],
      "source": [],
      "id": "VRnLSnD3YKVL"
    }
  ],
  "metadata": {
    "kernelspec": {
      "display_name": "Python 3",
      "language": "python",
      "name": "python3"
    },
    "language_info": {
      "codemirror_mode": {
        "name": "ipython",
        "version": 3
      },
      "file_extension": ".py",
      "mimetype": "text/x-python",
      "name": "python",
      "nbconvert_exporter": "python",
      "pygments_lexer": "ipython3",
      "version": "3.7.6"
    },
    "colab": {
      "provenance": [],
      "include_colab_link": true
    }
  },
  "nbformat": 4,
  "nbformat_minor": 5
}