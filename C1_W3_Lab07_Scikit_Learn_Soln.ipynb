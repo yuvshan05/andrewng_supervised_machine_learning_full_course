{
  "cells": [
    {
      "cell_type": "markdown",
      "metadata": {
        "id": "view-in-github",
        "colab_type": "text"
      },
      "source": [
        "<a href=\"https://colab.research.google.com/github/yuvshan05/andrewng_supervised_machine_learning_full_course/blob/main/C1_W3_Lab07_Scikit_Learn_Soln.ipynb\" target=\"_parent\"><img src=\"https://colab.research.google.com/assets/colab-badge.svg\" alt=\"Open In Colab\"/></a>"
      ]
    },
    {
      "cell_type": "markdown",
      "metadata": {
        "id": "CHCa0M86RDvu"
      },
      "source": [
        "# Ungraded Lab:  Logistic Regression using Scikit-Learn\n",
        "\n",
        "\n"
      ],
      "id": "CHCa0M86RDvu"
    },
    {
      "cell_type": "markdown",
      "metadata": {
        "id": "KOmQydesRDvw"
      },
      "source": [
        "## Goals\n",
        "In this lab you will:\n",
        "-  Train a logistic regression model using scikit-learn.\n"
      ],
      "id": "KOmQydesRDvw"
    },
    {
      "cell_type": "markdown",
      "metadata": {
        "id": "Vql-XrVfRDvx"
      },
      "source": [
        "## Dataset\n",
        "Let's start with the same dataset as before."
      ],
      "id": "Vql-XrVfRDvx"
    },
    {
      "cell_type": "code",
      "execution_count": null,
      "metadata": {
        "id": "g26X7M3aRDvx"
      },
      "outputs": [],
      "source": [
        "import numpy as np\n",
        "\n",
        "X = np.array([[0.5, 1.5], [1,1], [1.5, 0.5], [3, 0.5], [2, 2], [1, 2.5]])\n",
        "y = np.array([0, 0, 0, 1, 1, 1])"
      ],
      "id": "g26X7M3aRDvx"
    },
    {
      "cell_type": "markdown",
      "metadata": {
        "id": "ElwKAbvERDvy"
      },
      "source": [
        "## Fit the model\n",
        "\n",
        "The code below imports the [logistic regression model](https://scikit-learn.org/stable/modules/generated/sklearn.linear_model.LogisticRegression.html#sklearn.linear_model.LogisticRegression) from scikit-learn. You can fit this model on the training data by calling `fit` function."
      ],
      "id": "ElwKAbvERDvy"
    },
    {
      "cell_type": "code",
      "execution_count": null,
      "metadata": {
        "id": "cesOr52eRDvy",
        "outputId": "4fa84c59-d770-4ada-8ebe-6ab29192a3cc"
      },
      "outputs": [
        {
          "data": {
            "text/plain": [
              "LogisticRegression(C=1.0, class_weight=None, dual=False, fit_intercept=True,\n",
              "                   intercept_scaling=1, l1_ratio=None, max_iter=100,\n",
              "                   multi_class='auto', n_jobs=None, penalty='l2',\n",
              "                   random_state=None, solver='lbfgs', tol=0.0001, verbose=0,\n",
              "                   warm_start=False)"
            ]
          },
          "execution_count": 2,
          "metadata": {},
          "output_type": "execute_result"
        }
      ],
      "source": [
        "from sklearn.linear_model import LogisticRegression\n",
        "\n",
        "lr_model = LogisticRegression()\n",
        "lr_model.fit(X, y)"
      ],
      "id": "cesOr52eRDvy"
    },
    {
      "cell_type": "markdown",
      "metadata": {
        "id": "osUeLUdERDvz"
      },
      "source": [
        "## Make Predictions\n",
        "\n",
        "You can see the predictions made by this model by calling the `predict` function."
      ],
      "id": "osUeLUdERDvz"
    },
    {
      "cell_type": "code",
      "execution_count": null,
      "metadata": {
        "id": "ugx4xEeIRDv0",
        "outputId": "ee6e7d3d-309f-405d-9961-75843a48a28d"
      },
      "outputs": [
        {
          "name": "stdout",
          "output_type": "stream",
          "text": [
            "Prediction on training set: [0 0 0 1 1 1]\n"
          ]
        }
      ],
      "source": [
        "y_pred = lr_model.predict(X)\n",
        "\n",
        "print(\"Prediction on training set:\", y_pred)"
      ],
      "id": "ugx4xEeIRDv0"
    },
    {
      "cell_type": "markdown",
      "metadata": {
        "id": "ACayo6q6RDv0"
      },
      "source": [
        "## Calculate accuracy\n",
        "\n",
        "You can calculate this accuracy of this model by calling the `score` function."
      ],
      "id": "ACayo6q6RDv0"
    },
    {
      "cell_type": "code",
      "execution_count": null,
      "metadata": {
        "id": "Q0TAllp2RDv1",
        "outputId": "52fd9287-c5c7-48b2-9a37-ab8d20cc2c38"
      },
      "outputs": [
        {
          "name": "stdout",
          "output_type": "stream",
          "text": [
            "Accuracy on training set: 1.0\n"
          ]
        }
      ],
      "source": [
        "print(\"Accuracy on training set:\", lr_model.score(X, y))"
      ],
      "id": "Q0TAllp2RDv1"
    }
  ],
  "metadata": {
    "kernelspec": {
      "display_name": "Python 3",
      "language": "python",
      "name": "python3"
    },
    "language_info": {
      "codemirror_mode": {
        "name": "ipython",
        "version": 3
      },
      "file_extension": ".py",
      "mimetype": "text/x-python",
      "name": "python",
      "nbconvert_exporter": "python",
      "pygments_lexer": "ipython3",
      "version": "3.7.6"
    },
    "colab": {
      "provenance": [],
      "include_colab_link": true
    }
  },
  "nbformat": 4,
  "nbformat_minor": 5
}